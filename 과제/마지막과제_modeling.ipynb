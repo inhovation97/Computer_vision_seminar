{
  "nbformat": 4,
  "nbformat_minor": 0,
  "metadata": {
    "colab": {
      "provenance": [],
      "authorship_tag": "ABX9TyMSlSV/T0pkigKhKuFKb7wC",
      "include_colab_link": true
    },
    "kernelspec": {
      "name": "python3",
      "display_name": "Python 3"
    },
    "language_info": {
      "name": "python"
    },
    "accelerator": "GPU",
    "gpuClass": "standard",
    "widgets": {
      "application/vnd.jupyter.widget-state+json": {
        "1b58502f08844f62a0a5684093f57647": {
          "model_module": "@jupyter-widgets/controls",
          "model_name": "HBoxModel",
          "model_module_version": "1.5.0",
          "state": {
            "_dom_classes": [],
            "_model_module": "@jupyter-widgets/controls",
            "_model_module_version": "1.5.0",
            "_model_name": "HBoxModel",
            "_view_count": null,
            "_view_module": "@jupyter-widgets/controls",
            "_view_module_version": "1.5.0",
            "_view_name": "HBoxView",
            "box_style": "",
            "children": [
              "IPY_MODEL_d765d3ba0f194578b301f5ac7e5e21c8",
              "IPY_MODEL_45f8217d971245c3bdf8ae9331485794",
              "IPY_MODEL_9572865e9f7f42f883840f9ceb62bb6d"
            ],
            "layout": "IPY_MODEL_d5ac3400cb344f089965c1b62d4189a7"
          }
        },
        "d765d3ba0f194578b301f5ac7e5e21c8": {
          "model_module": "@jupyter-widgets/controls",
          "model_name": "HTMLModel",
          "model_module_version": "1.5.0",
          "state": {
            "_dom_classes": [],
            "_model_module": "@jupyter-widgets/controls",
            "_model_module_version": "1.5.0",
            "_model_name": "HTMLModel",
            "_view_count": null,
            "_view_module": "@jupyter-widgets/controls",
            "_view_module_version": "1.5.0",
            "_view_name": "HTMLView",
            "description": "",
            "description_tooltip": null,
            "layout": "IPY_MODEL_8d15a761603c4ff38ab27caa095a082d",
            "placeholder": "​",
            "style": "IPY_MODEL_0b1e1a4ab68e44e1ad980ee960cabfa2",
            "value": "100%"
          }
        },
        "45f8217d971245c3bdf8ae9331485794": {
          "model_module": "@jupyter-widgets/controls",
          "model_name": "FloatProgressModel",
          "model_module_version": "1.5.0",
          "state": {
            "_dom_classes": [],
            "_model_module": "@jupyter-widgets/controls",
            "_model_module_version": "1.5.0",
            "_model_name": "FloatProgressModel",
            "_view_count": null,
            "_view_module": "@jupyter-widgets/controls",
            "_view_module_version": "1.5.0",
            "_view_name": "ProgressView",
            "bar_style": "success",
            "description": "",
            "description_tooltip": null,
            "layout": "IPY_MODEL_4ad19f945f624a1595b7fee540790d7d",
            "max": 102530333,
            "min": 0,
            "orientation": "horizontal",
            "style": "IPY_MODEL_759ce73c419d46c2bf0e4c6364b8cd49",
            "value": 102530333
          }
        },
        "9572865e9f7f42f883840f9ceb62bb6d": {
          "model_module": "@jupyter-widgets/controls",
          "model_name": "HTMLModel",
          "model_module_version": "1.5.0",
          "state": {
            "_dom_classes": [],
            "_model_module": "@jupyter-widgets/controls",
            "_model_module_version": "1.5.0",
            "_model_name": "HTMLModel",
            "_view_count": null,
            "_view_module": "@jupyter-widgets/controls",
            "_view_module_version": "1.5.0",
            "_view_name": "HTMLView",
            "description": "",
            "description_tooltip": null,
            "layout": "IPY_MODEL_022679e15fdf42c4860d714165d28dd4",
            "placeholder": "​",
            "style": "IPY_MODEL_7cb9883e1a5648319185ee1f7617fcf4",
            "value": " 97.8M/97.8M [00:00&lt;00:00, 223MB/s]"
          }
        },
        "d5ac3400cb344f089965c1b62d4189a7": {
          "model_module": "@jupyter-widgets/base",
          "model_name": "LayoutModel",
          "model_module_version": "1.2.0",
          "state": {
            "_model_module": "@jupyter-widgets/base",
            "_model_module_version": "1.2.0",
            "_model_name": "LayoutModel",
            "_view_count": null,
            "_view_module": "@jupyter-widgets/base",
            "_view_module_version": "1.2.0",
            "_view_name": "LayoutView",
            "align_content": null,
            "align_items": null,
            "align_self": null,
            "border": null,
            "bottom": null,
            "display": null,
            "flex": null,
            "flex_flow": null,
            "grid_area": null,
            "grid_auto_columns": null,
            "grid_auto_flow": null,
            "grid_auto_rows": null,
            "grid_column": null,
            "grid_gap": null,
            "grid_row": null,
            "grid_template_areas": null,
            "grid_template_columns": null,
            "grid_template_rows": null,
            "height": null,
            "justify_content": null,
            "justify_items": null,
            "left": null,
            "margin": null,
            "max_height": null,
            "max_width": null,
            "min_height": null,
            "min_width": null,
            "object_fit": null,
            "object_position": null,
            "order": null,
            "overflow": null,
            "overflow_x": null,
            "overflow_y": null,
            "padding": null,
            "right": null,
            "top": null,
            "visibility": null,
            "width": null
          }
        },
        "8d15a761603c4ff38ab27caa095a082d": {
          "model_module": "@jupyter-widgets/base",
          "model_name": "LayoutModel",
          "model_module_version": "1.2.0",
          "state": {
            "_model_module": "@jupyter-widgets/base",
            "_model_module_version": "1.2.0",
            "_model_name": "LayoutModel",
            "_view_count": null,
            "_view_module": "@jupyter-widgets/base",
            "_view_module_version": "1.2.0",
            "_view_name": "LayoutView",
            "align_content": null,
            "align_items": null,
            "align_self": null,
            "border": null,
            "bottom": null,
            "display": null,
            "flex": null,
            "flex_flow": null,
            "grid_area": null,
            "grid_auto_columns": null,
            "grid_auto_flow": null,
            "grid_auto_rows": null,
            "grid_column": null,
            "grid_gap": null,
            "grid_row": null,
            "grid_template_areas": null,
            "grid_template_columns": null,
            "grid_template_rows": null,
            "height": null,
            "justify_content": null,
            "justify_items": null,
            "left": null,
            "margin": null,
            "max_height": null,
            "max_width": null,
            "min_height": null,
            "min_width": null,
            "object_fit": null,
            "object_position": null,
            "order": null,
            "overflow": null,
            "overflow_x": null,
            "overflow_y": null,
            "padding": null,
            "right": null,
            "top": null,
            "visibility": null,
            "width": null
          }
        },
        "0b1e1a4ab68e44e1ad980ee960cabfa2": {
          "model_module": "@jupyter-widgets/controls",
          "model_name": "DescriptionStyleModel",
          "model_module_version": "1.5.0",
          "state": {
            "_model_module": "@jupyter-widgets/controls",
            "_model_module_version": "1.5.0",
            "_model_name": "DescriptionStyleModel",
            "_view_count": null,
            "_view_module": "@jupyter-widgets/base",
            "_view_module_version": "1.2.0",
            "_view_name": "StyleView",
            "description_width": ""
          }
        },
        "4ad19f945f624a1595b7fee540790d7d": {
          "model_module": "@jupyter-widgets/base",
          "model_name": "LayoutModel",
          "model_module_version": "1.2.0",
          "state": {
            "_model_module": "@jupyter-widgets/base",
            "_model_module_version": "1.2.0",
            "_model_name": "LayoutModel",
            "_view_count": null,
            "_view_module": "@jupyter-widgets/base",
            "_view_module_version": "1.2.0",
            "_view_name": "LayoutView",
            "align_content": null,
            "align_items": null,
            "align_self": null,
            "border": null,
            "bottom": null,
            "display": null,
            "flex": null,
            "flex_flow": null,
            "grid_area": null,
            "grid_auto_columns": null,
            "grid_auto_flow": null,
            "grid_auto_rows": null,
            "grid_column": null,
            "grid_gap": null,
            "grid_row": null,
            "grid_template_areas": null,
            "grid_template_columns": null,
            "grid_template_rows": null,
            "height": null,
            "justify_content": null,
            "justify_items": null,
            "left": null,
            "margin": null,
            "max_height": null,
            "max_width": null,
            "min_height": null,
            "min_width": null,
            "object_fit": null,
            "object_position": null,
            "order": null,
            "overflow": null,
            "overflow_x": null,
            "overflow_y": null,
            "padding": null,
            "right": null,
            "top": null,
            "visibility": null,
            "width": null
          }
        },
        "759ce73c419d46c2bf0e4c6364b8cd49": {
          "model_module": "@jupyter-widgets/controls",
          "model_name": "ProgressStyleModel",
          "model_module_version": "1.5.0",
          "state": {
            "_model_module": "@jupyter-widgets/controls",
            "_model_module_version": "1.5.0",
            "_model_name": "ProgressStyleModel",
            "_view_count": null,
            "_view_module": "@jupyter-widgets/base",
            "_view_module_version": "1.2.0",
            "_view_name": "StyleView",
            "bar_color": null,
            "description_width": ""
          }
        },
        "022679e15fdf42c4860d714165d28dd4": {
          "model_module": "@jupyter-widgets/base",
          "model_name": "LayoutModel",
          "model_module_version": "1.2.0",
          "state": {
            "_model_module": "@jupyter-widgets/base",
            "_model_module_version": "1.2.0",
            "_model_name": "LayoutModel",
            "_view_count": null,
            "_view_module": "@jupyter-widgets/base",
            "_view_module_version": "1.2.0",
            "_view_name": "LayoutView",
            "align_content": null,
            "align_items": null,
            "align_self": null,
            "border": null,
            "bottom": null,
            "display": null,
            "flex": null,
            "flex_flow": null,
            "grid_area": null,
            "grid_auto_columns": null,
            "grid_auto_flow": null,
            "grid_auto_rows": null,
            "grid_column": null,
            "grid_gap": null,
            "grid_row": null,
            "grid_template_areas": null,
            "grid_template_columns": null,
            "grid_template_rows": null,
            "height": null,
            "justify_content": null,
            "justify_items": null,
            "left": null,
            "margin": null,
            "max_height": null,
            "max_width": null,
            "min_height": null,
            "min_width": null,
            "object_fit": null,
            "object_position": null,
            "order": null,
            "overflow": null,
            "overflow_x": null,
            "overflow_y": null,
            "padding": null,
            "right": null,
            "top": null,
            "visibility": null,
            "width": null
          }
        },
        "7cb9883e1a5648319185ee1f7617fcf4": {
          "model_module": "@jupyter-widgets/controls",
          "model_name": "DescriptionStyleModel",
          "model_module_version": "1.5.0",
          "state": {
            "_model_module": "@jupyter-widgets/controls",
            "_model_module_version": "1.5.0",
            "_model_name": "DescriptionStyleModel",
            "_view_count": null,
            "_view_module": "@jupyter-widgets/base",
            "_view_module_version": "1.2.0",
            "_view_name": "StyleView",
            "description_width": ""
          }
        }
      }
    }
  },
  "cells": [
    {
      "cell_type": "markdown",
      "metadata": {
        "id": "view-in-github",
        "colab_type": "text"
      },
      "source": [
        "<a href=\"https://colab.research.google.com/github/inhovation97/ComputerVision_Seminar/blob/main/%EA%B3%BC%EC%A0%9C/%EB%A7%88%EC%A7%80%EB%A7%89%EA%B3%BC%EC%A0%9C_modeling.ipynb\" target=\"_parent\"><img src=\"https://colab.research.google.com/assets/colab-badge.svg\" alt=\"Open In Colab\"/></a>"
      ]
    },
    {
      "cell_type": "code",
      "source": [
        "from google.colab import drive\n",
        "drive.mount('/content/drive')"
      ],
      "metadata": {
        "colab": {
          "base_uri": "https://localhost:8080/"
        },
        "id": "D1lzbakAd8tT",
        "outputId": "72a7701b-0595-4ddc-be15-b3466f5c162e"
      },
      "execution_count": null,
      "outputs": [
        {
          "output_type": "stream",
          "name": "stdout",
          "text": [
            "Mounted at /content/drive\n"
          ]
        }
      ]
    },
    {
      "cell_type": "code",
      "source": [
        "%cd /content/drive/MyDrive/CV_seminar_project"
      ],
      "metadata": {
        "colab": {
          "base_uri": "https://localhost:8080/"
        },
        "id": "uNfWsC1rd-ik",
        "outputId": "a0e52029-b717-4027-aa68-0a3a0fa1fd27"
      },
      "execution_count": null,
      "outputs": [
        {
          "output_type": "stream",
          "name": "stdout",
          "text": [
            "/content/drive/MyDrive/CV_seminar_project\n"
          ]
        }
      ]
    },
    {
      "cell_type": "code",
      "source": [
        "%pwd"
      ],
      "metadata": {
        "colab": {
          "base_uri": "https://localhost:8080/",
          "height": 35
        },
        "id": "Gh5DEQXbd-fK",
        "outputId": "42f3ec20-1dba-460b-d203-42a3f9bc5aa9"
      },
      "execution_count": null,
      "outputs": [
        {
          "output_type": "execute_result",
          "data": {
            "text/plain": [
              "'/content/drive/MyDrive/CV_seminar_project'"
            ],
            "application/vnd.google.colaboratory.intrinsic+json": {
              "type": "string"
            }
          },
          "metadata": {},
          "execution_count": 3
        }
      ]
    },
    {
      "cell_type": "code",
      "source": [
        "import torch\n",
        "device = 'cuda' if torch.cuda.is_available() else 'cpu' # device 배정\n",
        "torch.manual_seed(42)\n",
        "if device == 'cuda':\n",
        "  torch.cuda.manual_seed_all(42)\n",
        "device"
      ],
      "metadata": {
        "colab": {
          "base_uri": "https://localhost:8080/",
          "height": 35
        },
        "id": "I1DN0-5tk_6N",
        "outputId": "17381d2b-9684-49a8-a56a-e7f721c64750"
      },
      "execution_count": null,
      "outputs": [
        {
          "output_type": "execute_result",
          "data": {
            "text/plain": [
              "'cuda'"
            ],
            "application/vnd.google.colaboratory.intrinsic+json": {
              "type": "string"
            }
          },
          "metadata": {},
          "execution_count": 4
        }
      ]
    },
    {
      "cell_type": "markdown",
      "source": [
        "# 1. 데이터 셋 준비하기"
      ],
      "metadata": {
        "id": "bTg_WAf5fD40"
      }
    },
    {
      "cell_type": "code",
      "source": [
        "import torch.nn as nn\n",
        "\n",
        "# 하이퍼 파라미터\n",
        "batch_size = 8\n",
        "lr = 0.0001\n",
        "epochs = 50\n",
        "optimizer_name = 'adam'\n",
        "model_name = 'resnet50'\n",
        "criterion = nn.CrossEntropyLoss().to(device) # cost function"
      ],
      "metadata": {
        "id": "-SLar1_YfjfK"
      },
      "execution_count": null,
      "outputs": []
    },
    {
      "cell_type": "code",
      "source": [
        "from dataset import Custom_dataset as C\n",
        "from torch.utils.data import Dataset, DataLoader\n",
        "import cv2\n",
        "import os \n",
        "import torch\n",
        "import torchvision\n",
        "from torchvision import transforms # 이미지 데이터 augmentation\n",
        "import glob\n",
        "import albumentations as A\n",
        "from albumentations.pytorch.transforms import ToTensorV2 # albumentations 텐서화 함수\n",
        "\n",
        "root_path = '/content/drive/MyDrive/CV_seminar_project'\n",
        "\n",
        "train_transforms = A.Compose([\n",
        "    A.Resize(224,224),\n",
        "    A.Transpose(p=0.5),\n",
        "    A.HorizontalFlip(p=0.5),\n",
        "    A.VerticalFlip(p=0.5),\n",
        "    A.ShiftScaleRotate(p=0.5),\n",
        "    A.HueSaturationValue(hue_shift_limit=20, sat_shift_limit=20, val_shift_limit=20, p=0.5),\n",
        "    A.RandomBrightnessContrast(brightness_limit=(-0.1,0.1), contrast_limit=(-0.1, 0.1), p=0.5),\n",
        "    A.ChannelShuffle(),\n",
        "    A.Normalize(mean=(0.485, 0.456, 0.406), std=(0.229, 0.224, 0.225), max_pixel_value=255.0, always_apply=False, p=1.0), # 이미지넷 데이터셋 통계값으로 Normalize\n",
        "    A.CoarseDropout(p=0.5),\n",
        "    ToTensorV2()\n",
        "])\n",
        "\n",
        "test_transforms = A.Compose([\n",
        "    A.Resize(224,224),\n",
        "    A.Normalize(mean=(0.485, 0.456, 0.406), std=(0.229, 0.224, 0.225), max_pixel_value=255.0, always_apply=False, p=1.0), # 텐서타입은 안해줌\n",
        "    ToTensorV2() # Normalize를 먼저하고 tensor화를 진행해야한다.\n",
        "])\n",
        "\n",
        "### Pytorch 데이터 클래스 생성\n",
        "train_class = C(root_path=root_path, mode='train', transforms=train_transforms)\n",
        "valid_class = C(root_path=root_path, mode='valid', transforms=test_transforms)\n",
        "test_class = C(root_path=root_path, mode='test', transforms=test_transforms)\n",
        "\n",
        "### Pytorch BatchLoader 생성 (학습에 이용할 최종 dataloader)\n",
        "from torch.utils.data import DataLoader as DataLoader\n",
        "\n",
        "train_loader = DataLoader(train_class, batch_size=batch_size, shuffle = True, num_workers=0)\n",
        "valid_loader = DataLoader(valid_class, batch_size=batch_size, shuffle = False, num_workers=0)\n",
        "test_loader = DataLoader(test_class, batch_size=batch_size, shuffle = False, num_workers=0)"
      ],
      "metadata": {
        "id": "L7BjMXK_d-bP"
      },
      "execution_count": null,
      "outputs": []
    },
    {
      "cell_type": "markdown",
      "source": [
        "# 2. 모델 불러오기"
      ],
      "metadata": {
        "id": "BCFTWUHcgvWa"
      }
    },
    {
      "cell_type": "code",
      "source": [
        "from torchvision import models # 모델 라이브러리 함수\n",
        "\n",
        "resnet_50 = models.resnet50(pretrained=True).to(device) # 선행학습 여부\n",
        "\n",
        "# finetuning\n",
        "import torch.nn as nn # 파이토치 뉴럴네트워크 layer 라이브러리\n",
        "resnet_50.fc = nn.Linear(resnet_50.fc.in_features, 3).to(device)"
      ],
      "metadata": {
        "colab": {
          "base_uri": "https://localhost:8080/",
          "height": 159,
          "referenced_widgets": [
            "1b58502f08844f62a0a5684093f57647",
            "d765d3ba0f194578b301f5ac7e5e21c8",
            "45f8217d971245c3bdf8ae9331485794",
            "9572865e9f7f42f883840f9ceb62bb6d",
            "d5ac3400cb344f089965c1b62d4189a7",
            "8d15a761603c4ff38ab27caa095a082d",
            "0b1e1a4ab68e44e1ad980ee960cabfa2",
            "4ad19f945f624a1595b7fee540790d7d",
            "759ce73c419d46c2bf0e4c6364b8cd49",
            "022679e15fdf42c4860d714165d28dd4",
            "7cb9883e1a5648319185ee1f7617fcf4"
          ]
        },
        "id": "WnIAq1ZTftSM",
        "outputId": "42715828-c2c8-4aa4-f9a3-be48b9566fd5"
      },
      "execution_count": null,
      "outputs": [
        {
          "output_type": "stream",
          "name": "stderr",
          "text": [
            "/usr/local/lib/python3.8/dist-packages/torchvision/models/_utils.py:208: UserWarning: The parameter 'pretrained' is deprecated since 0.13 and may be removed in the future, please use 'weights' instead.\n",
            "  warnings.warn(\n",
            "/usr/local/lib/python3.8/dist-packages/torchvision/models/_utils.py:223: UserWarning: Arguments other than a weight enum or `None` for 'weights' are deprecated since 0.13 and may be removed in the future. The current behavior is equivalent to passing `weights=ResNet50_Weights.IMAGENET1K_V1`. You can also use `weights=ResNet50_Weights.DEFAULT` to get the most up-to-date weights.\n",
            "  warnings.warn(msg)\n",
            "Downloading: \"https://download.pytorch.org/models/resnet50-0676ba61.pth\" to /root/.cache/torch/hub/checkpoints/resnet50-0676ba61.pth\n"
          ]
        },
        {
          "output_type": "display_data",
          "data": {
            "text/plain": [
              "  0%|          | 0.00/97.8M [00:00<?, ?B/s]"
            ],
            "application/vnd.jupyter.widget-view+json": {
              "version_major": 2,
              "version_minor": 0,
              "model_id": "1b58502f08844f62a0a5684093f57647"
            }
          },
          "metadata": {}
        }
      ]
    },
    {
      "cell_type": "code",
      "source": [
        "from torchsummary import summary # 모델 아키텍쳐 확인하는 함수\n",
        "\n",
        "summary(resnet_50, input_size = (3, 224, 224))"
      ],
      "metadata": {
        "id": "QTR-b7HfftOI"
      },
      "execution_count": null,
      "outputs": []
    },
    {
      "cell_type": "code",
      "source": [
        "optimizer = torch.optim.Adam(resnet_50.parameters(), lr = lr, weight_decay = 1e-8)"
      ],
      "metadata": {
        "id": "MLuXH9QPnfIk"
      },
      "execution_count": null,
      "outputs": []
    },
    {
      "cell_type": "markdown",
      "source": [
        "# 3. 모델 학습시키기\n",
        "\n",
        "모델 저장하기 : 딕셔너리 형식의 pth 확장자로 저장이 된다.\n",
        "validation set의 성능이 여태까지 epoch의 성능에서 best일때의 모델의 가중치를 저장한다."
      ],
      "metadata": {
        "id": "d5A7Ug5RkRYq"
      }
    },
    {
      "cell_type": "code",
      "source": [
        "import numpy as np"
      ],
      "metadata": {
        "id": "TAo6Xe4Owau6"
      },
      "execution_count": null,
      "outputs": []
    },
    {
      "cell_type": "code",
      "source": [
        "import numpy as np\n",
        "train_acc_lst = []\n",
        "train_loss_lst = []\n",
        "\n",
        "test_acc_lst = []\n",
        "test_loss_lst = []\n",
        "epochs = 12\n",
        "\n",
        "save_dir = '/content/drive/MyDrive/CV_seminar_project'\n",
        "model_name = 'resnet50'\n",
        "\n",
        "for epoch in range(1, epochs):\n",
        "  running_loss = 0.0\n",
        "  test_running_loss = 0.0\n",
        "\n",
        "  total = 0\n",
        "  correct = 0\n",
        "  \n",
        "  train_acc = 0\n",
        "  test_acc = 0\n",
        "\n",
        "  resnet_50.train()\n",
        "  for i, (train_img, train_label) in enumerate(train_loader):\n",
        "    # gpu에 할당\n",
        "    train_img = train_img.to(device)\n",
        "    train_label = train_label.to(device)\n",
        "    optimizer.zero_grad( set_to_none = True ) # 계산했던 가중치 초기화\n",
        "\n",
        "    output = resnet_50(train_img) # 모델에 입력\n",
        "    loss = criterion(output, train_label)\n",
        "    loss.backward() # 미분\n",
        "    optimizer.step() # 학습\n",
        "\n",
        "    # loss & acc\n",
        "    running_loss += loss.item()\n",
        "    _, predictions = torch.max(output.data ,dim = 1 )\n",
        "    \n",
        "    total += train_label.size(0)\n",
        "    correct += (predictions == train_label).sum().item()\n",
        "    train_acc += 100 * (correct/total)\n",
        "\n",
        "  running_loss = round(running_loss/(i+1), 3) # 소수점 반올림\n",
        "  train_acc = round(train_acc/(i+1), 3)\n",
        "  \n",
        "  print(f'Trainset{epoch}/{epochs} Loss : {running_loss}, Accuracy : {train_acc}%')\n",
        "  train_acc_lst.append(train_acc)\n",
        "  train_loss_lst.append(running_loss)\n",
        "\n",
        "\n",
        "  total = 0\n",
        "  correct = 0\n",
        "  resnet_50.eval()\n",
        "  with torch.no_grad():\n",
        "    for ii, (valid_img, valid_label) in enumerate(valid_loader):\n",
        "          # gpu에 할당\n",
        "      valid_img = valid_img.to(device)\n",
        "      valid_label = valid_label.to(device)\n",
        "\n",
        "      output = resnet_50(valid_img) # 모델에 입력\n",
        "      loss = criterion(output, valid_label)\n",
        "\n",
        "      # loss & acc\n",
        "      test_running_loss += loss.item()\n",
        "      _, predictions = torch.max(output.data ,dim = 1 )\n",
        "      \n",
        "      total += valid_label.size(0)\n",
        "      correct += (predictions == valid_label).sum().item()\n",
        "      test_acc += 100 * (correct/total)\n",
        "\n",
        "  test_running_loss = round(test_running_loss/(ii+1), 3) # 소수점 반올림\n",
        "  test_acc = round(test_acc/(ii+1), 3)\n",
        "  print(f'Validset{epoch}/{epochs} Loss : {test_running_loss}, Accuracy : {test_acc}% \\n')\n",
        "  test_acc_lst.append(test_acc)\n",
        "  test_loss_lst.append(test_running_loss)\n",
        "\n",
        "  if np.max(test_acc_lst) <= test_acc: # 현재 에포크의 test_acc가 가장 좋은 성능이라면,\n",
        "    weights = resnet_50.state_dict() # 지금 모델의 가중치를 저장한다.\n",
        "    check_point = {\n",
        "        'net' : weights,\n",
        "        'epoch' : epoch,\n",
        "        \n",
        "        'train_loss' : running_loss,\n",
        "        'test_loss' : test_running_loss,\n",
        "\n",
        "        'train_acc' : train_acc,\n",
        "        'test_acc' : test_acc,\n",
        "    }\n",
        "    torch.save(check_point, save_dir+ f'/{model_name}.pth')\n",
        "\n",
        "\n",
        "  "
      ],
      "metadata": {
        "colab": {
          "base_uri": "https://localhost:8080/"
        },
        "id": "DaaU_BTkd6Mm",
        "outputId": "7f97536a-75d6-4bf2-83de-4cb02b6baae1"
      },
      "execution_count": null,
      "outputs": [
        {
          "output_type": "stream",
          "name": "stdout",
          "text": [
            "Trainset1/12 Loss : 0.672, Accuracy : 73.002%\n",
            "Validset1/12 Loss : 0.551, Accuracy : 79.168% \n",
            "\n",
            "Trainset2/12 Loss : 0.649, Accuracy : 71.766%\n",
            "Validset2/12 Loss : 0.407, Accuracy : 78.737% \n",
            "\n",
            "Trainset3/12 Loss : 0.565, Accuracy : 79.309%\n",
            "Validset3/12 Loss : 0.477, Accuracy : 68.392% \n",
            "\n",
            "Trainset4/12 Loss : 0.504, Accuracy : 77.824%\n",
            "Validset4/12 Loss : 0.37, Accuracy : 78.056% \n",
            "\n",
            "Trainset5/12 Loss : 0.454, Accuracy : 84.613%\n",
            "Validset5/12 Loss : 0.55, Accuracy : 70.494% \n",
            "\n",
            "Trainset6/12 Loss : 0.49, Accuracy : 79.614%\n",
            "Validset6/12 Loss : 0.472, Accuracy : 66.849% \n",
            "\n",
            "Trainset7/12 Loss : 0.433, Accuracy : 84.802%\n",
            "Validset7/12 Loss : 0.45, Accuracy : 70.53% \n",
            "\n",
            "Trainset8/12 Loss : 0.397, Accuracy : 85.529%\n",
            "Validset8/12 Loss : 0.387, Accuracy : 82.709% \n",
            "\n",
            "Trainset9/12 Loss : 0.417, Accuracy : 83.887%\n",
            "Validset9/12 Loss : 0.34, Accuracy : 87.123% \n",
            "\n",
            "Trainset10/12 Loss : 0.329, Accuracy : 88.058%\n",
            "Validset10/12 Loss : 0.399, Accuracy : 78.198% \n",
            "\n",
            "Trainset11/12 Loss : 0.386, Accuracy : 84.028%\n",
            "Validset11/12 Loss : 0.396, Accuracy : 72.498% \n",
            "\n"
          ]
        }
      ]
    },
    {
      "cell_type": "code",
      "source": [
        "import matplotlib.pyplot as plt\n",
        "import matplotlib\n",
        "import seaborn as sns\n",
        "import numpy as np\n",
        "\n",
        "fig, axes = plt.subplots(nrows=1, ncols = 2, figsize = (25, 10))\n",
        "\n",
        "axes[0].plot(np.arange(len(train_acc_lst)), train_acc_lst, label = 'train_acc', linewidth=2)\n",
        "axes[0].plot(np.arange(len(test_acc_lst)), test_acc_lst, label = 'test_acc', linewidth=2)\n",
        "axes[0].set_title('Accuracy')\n",
        "axes[0].legend(loc='best')\n",
        "\n",
        "axes[1].plot(np.arange(len(train_loss_lst)), train_loss_lst, label = 'train_loss', linewidth=2)\n",
        "axes[1].plot(np.arange(len(test_loss_lst)), test_loss_lst, label = 'test_loss', linewidth=2)\n",
        "axes[1].set_title('Loss')\n",
        "axes[1].legend(loc='best')"
      ],
      "metadata": {
        "colab": {
          "base_uri": "https://localhost:8080/",
          "height": 625
        },
        "id": "D8hRbLMY0tJi",
        "outputId": "e5b38623-8d95-4c8d-bd70-72b726a8f43b"
      },
      "execution_count": null,
      "outputs": [
        {
          "output_type": "execute_result",
          "data": {
            "text/plain": [
              "<matplotlib.legend.Legend at 0x7efbb40e4f40>"
            ]
          },
          "metadata": {},
          "execution_count": 13
        },
        {
          "output_type": "display_data",
          "data": {
            "text/plain": [
              "<Figure size 1800x720 with 2 Axes>"
            ],
            "image/png": "[encoded data removed]"
          },
          "metadata": {
            "needs_background": "light"
          }
        }
      ]
    },
    {
      "cell_type": "code",
      "source": [],
      "metadata": {
        "id": "LfEPbk2m0tED"
      },
      "execution_count": null,
      "outputs": []
    },
    {
      "cell_type": "code",
      "source": [],
      "metadata": {
        "id": "4IbQ1d780tBA"
      },
      "execution_count": null,
      "outputs": []
    },
    {
      "cell_type": "code",
      "source": [],
      "metadata": {
        "id": "GmDMo9dZ0s9h"
      },
      "execution_count": null,
      "outputs": []
    },
    {
      "cell_type": "code",
      "source": [],
      "metadata": {
        "id": "t2k9dORz0s6V"
      },
      "execution_count": null,
      "outputs": []
    },
    {
      "cell_type": "code",
      "source": [],
      "metadata": {
        "id": "4CNatFzI0s2o"
      },
      "execution_count": null,
      "outputs": []
    }
  ]
}